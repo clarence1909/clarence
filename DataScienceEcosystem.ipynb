{
 "cells": [
  {
   "cell_type": "markdown",
   "id": "153adfb7-ba95-430a-8bfa-4b910f0841b5",
   "metadata": {},
   "source": [
    "# Data Science Tools and Ecosystem"
   ]
  },
  {
   "cell_type": "markdown",
   "id": "c3fc8424-a468-47ca-87af-9bd8f32f7971",
   "metadata": {},
   "source": [
    "___In this notebook, Data Science Tools and Ecosystem are summarized___"
   ]
  },
  {
   "cell_type": "markdown",
   "id": "02d9684d-825e-4b08-baba-ca2d896d7b35",
   "metadata": {},
   "source": [
    "***Some of the popular languages that Data Scientists use are:***"
   ]
  },
  {
   "cell_type": "markdown",
   "id": "896c2839-dbb0-4ba3-bf8c-821ef37fae39",
   "metadata": {},
   "source": [
    "1. Python \n",
    "2. SQL\n",
    "3. R"
   ]
  },
  {
   "cell_type": "markdown",
   "id": "c2c242c2-73e2-4945-a40a-aa94c922a640",
   "metadata": {},
   "source": [
    "___Some of the commonly used libraries used by Data Scientists include:___"
   ]
  },
  {
   "cell_type": "markdown",
   "id": "a392c472-89f3-4568-9b82-2080bfd4c45e",
   "metadata": {},
   "source": [
    "1. Matplot\n",
    "2. libNumPy\n",
    "3. Pandas"
   ]
  },
  {
   "cell_type": "markdown",
   "id": "6a93fe2d-94df-4c78-b6a2-bc60b1c21f75",
   "metadata": {},
   "source": [
    "|Data Science Tools|\n",
    "----\n",
    "|Jupyter Notebook|\n",
    "|RStudio|\n",
    "|Apache Spark|"
   ]
  },
  {
   "cell_type": "markdown",
   "id": "6effddd3-0558-4f79-8b24-fc39a69cd9fe",
   "metadata": {},
   "source": [
    "### Below are a few examples of evaluating arithmetic expressions in Python"
   ]
  },
  {
   "cell_type": "markdown",
   "id": "102cbcf3-7c46-4deb-95d4-1aab5700d110",
   "metadata": {},
   "source": [
    "This a simple arithmetic expression to mutiply then add integers"
   ]
  },
  {
   "cell_type": "code",
   "execution_count": 9,
   "id": "41007c8a-07a7-41af-8954-be5ea3ba6172",
   "metadata": {},
   "outputs": [
    {
     "data": {
      "text/plain": [
       "17"
      ]
     },
     "execution_count": 9,
     "metadata": {},
     "output_type": "execute_result"
    }
   ],
   "source": [
    "(3*4)+5"
   ]
  },
  {
   "cell_type": "markdown",
   "id": "900c31a9-6bc9-48fe-bdd6-679e212b7be8",
   "metadata": {},
   "source": [
    "***This will convert 200 minutes to hours by diving by 60***?"
   ]
  },
  {
   "cell_type": "code",
   "execution_count": 14,
   "id": "95497786-1741-4723-8a01-58e0d9daf476",
   "metadata": {},
   "outputs": [
    {
     "name": "stdout",
     "output_type": "stream",
     "text": [
      "200 minutes is equal to 3.3333333333333335 hours\n"
     ]
    }
   ],
   "source": [
    "minutes = 200\n",
    "hours = minutes / 60\n",
    "print(\"200 minutes is equal to\", hours, \"hours\")"
   ]
  },
  {
   "cell_type": "markdown",
   "id": "1caafec8-0ba5-4bf0-ba95-b645c6882957",
   "metadata": {},
   "source": [
    "**Objectives:**"
   ]
  },
  {
   "cell_type": "markdown",
   "id": "e485ca4b-a583-4e39-9660-e703c6593f92",
   "metadata": {},
   "source": [
    "* Python\n",
    "* SQL\n",
    "* R"
   ]
  },
  {
   "cell_type": "markdown",
   "id": "03af3228-7cf0-43d2-b38b-74dd2a5cbe63",
   "metadata": {},
   "source": [
    "## Author"
   ]
  },
  {
   "cell_type": "markdown",
   "id": "860fcc60-918d-4819-9039-e2a31a1c9d3c",
   "metadata": {},
   "source": [
    "Clarence Tan Zhen Jin"
   ]
  },
  {
   "cell_type": "code",
   "execution_count": null,
   "id": "365f493c-926e-4cbc-b72f-25b67e482732",
   "metadata": {},
   "outputs": [],
   "source": []
  }
 ],
 "metadata": {
  "kernelspec": {
   "display_name": "Python 3 (ipykernel)",
   "language": "python",
   "name": "python3"
  },
  "language_info": {
   "codemirror_mode": {
    "name": "ipython",
    "version": 3
   },
   "file_extension": ".py",
   "mimetype": "text/x-python",
   "name": "python",
   "nbconvert_exporter": "python",
   "pygments_lexer": "ipython3",
   "version": "3.11.7"
  }
 },
 "nbformat": 4,
 "nbformat_minor": 5
}
